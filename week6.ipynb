{
 "cells": [
  {
   "cell_type": "markdown",
   "id": "c70cfdde",
   "metadata": {},
   "source": [
    "APPLYING RANDOM FORREST TO CONTINUATION NOTEBOOK FROM WEEK 4 HOMEWORK "
   ]
  },
  {
   "cell_type": "code",
   "execution_count": 2,
   "id": "0332e9c6",
   "metadata": {},
   "outputs": [
    {
     "data": {
      "text/plain": [
       "(Severity Level\n",
       " Medium    13435\n",
       " High      13382\n",
       " Low       13183\n",
       " Name: count, dtype: int64,\n",
       "                           count unique                  top freq         mean  \\\n",
       " Timestamp                 40000  39997  2022-06-11 14:28:15    2          NaN   \n",
       " Source IP Address         40000  40000         138.156.5.40    1          NaN   \n",
       " Destination IP Address    40000  40000        91.54.135.213    1          NaN   \n",
       " Source Port             40000.0    NaN                  NaN  NaN  32970.35645   \n",
       " Destination Port        40000.0    NaN                  NaN  NaN  33150.86865   \n",
       " \n",
       "                                  std     min       25%      50%       75%  \\\n",
       " Timestamp                        NaN     NaN       NaN      NaN       NaN   \n",
       " Source IP Address                NaN     NaN       NaN      NaN       NaN   \n",
       " Destination IP Address           NaN     NaN       NaN      NaN       NaN   \n",
       " Source Port             18560.425604  1027.0  16850.75  32856.0  48928.25   \n",
       " Destination Port        18574.668842  1024.0  17094.75  33004.5   49287.0   \n",
       " \n",
       "                             max  \n",
       " Timestamp                   NaN  \n",
       " Source IP Address           NaN  \n",
       " Destination IP Address      NaN  \n",
       " Source Port             65530.0  \n",
       " Destination Port        65535.0  ,\n",
       " Alerts/Warnings           20067\n",
       " IDS/IPS Alerts            20050\n",
       " Malware Indicators        20000\n",
       " Firewall Logs             19961\n",
       " Proxy Information         19851\n",
       " Source IP Address             0\n",
       " Destination IP Address        0\n",
       " Source Port                   0\n",
       " Timestamp                     0\n",
       " Traffic Type                  0\n",
       " dtype: int64)"
      ]
     },
     "execution_count": 2,
     "metadata": {},
     "output_type": "execute_result"
    }
   ],
   "source": [
    "# Load the extracted cybersecurity_attacks.csv file\n",
    "import pandas as pd\n",
    "df = pd.read_csv(\"cybersecurity_attacks.csv\")\n",
    "\n",
    "# Display summary info and first few rows\n",
    "df_summary = df.describe(include=\"all\").transpose()\n",
    "df_nulls = df.isnull().sum().sort_values(ascending=False)\n",
    "df[\"Severity Level\"].value_counts(), df_summary.head(), df_nulls.head(10)\n"
   ]
  },
  {
   "cell_type": "markdown",
   "id": "4b06ccd2",
   "metadata": {},
   "source": [
    "EDA and first pipeline draft "
   ]
  },
  {
   "cell_type": "code",
   "execution_count": 3,
   "id": "3123a0dc",
   "metadata": {},
   "outputs": [],
   "source": [
    "from sklearn.model_selection import train_test_split\n",
    "from sklearn.ensemble import RandomForestClassifier\n",
    "from sklearn.pipeline import Pipeline\n",
    "from sklearn.compose import ColumnTransformer\n",
    "from sklearn.impute import SimpleImputer\n",
    "from sklearn.preprocessing import OneHotEncoder, StandardScaler\n",
    "from sklearn.metrics import classification_report, confusion_matrix\n",
    "import numpy as np\n",
    "\n",
    "# Create binary target\n",
    "df[\"Severity Binary\"] = df[\"Severity Level\"].apply(lambda x: 1 if x in [\"High\", \"Medium\"] else 0)\n",
    "\n",
    "# Drop irrelevant or high-cardinality text columns\n",
    "drop_cols = [\n",
    "    \"Timestamp\", \"Source IP Address\", \"Destination IP Address\", \"Payload Data\", \"User Information\",\n",
    "    \"Device Information\", \"Geo-location Data\", \"Proxy Information\", \"Firewall Logs\",\n",
    "    \"IDS/IPS Alerts\", \"Malware Indicators\", \"Alerts/Warnings\", \"Attack Signature\"\n",
    "]\n",
    "df_model = df.drop(columns=drop_cols)\n",
    "\n",
    "# Define features and target\n",
    "X = df_model.drop(columns=[\"Severity Level\", \"Severity Binary\"])\n",
    "y = df_model[\"Severity Binary\"]\n",
    "\n",
    "# Identify column types\n",
    "numeric_features = X.select_dtypes(include=[\"int64\", \"float64\"]).columns.tolist()\n",
    "categorical_features = X.select_dtypes(include=[\"object\"]).columns.tolist()\n",
    "\n"
   ]
  },
  {
   "cell_type": "code",
   "execution_count": 4,
   "id": "ee1f8c18",
   "metadata": {},
   "outputs": [
    {
     "data": {
      "text/plain": [
       "(array([[ 161, 2476],\n",
       "        [ 324, 5039]]),\n",
       " {'0': {'precision': 0.3319587628865979,\n",
       "   'recall': 0.06105422828972317,\n",
       "   'f1-score': 0.1031390134529148,\n",
       "   'support': 2637.0},\n",
       "  '1': {'precision': 0.670525615435795,\n",
       "   'recall': 0.9395860525825098,\n",
       "   'f1-score': 0.7825749339959621,\n",
       "   'support': 5363.0},\n",
       "  'accuracy': 0.65,\n",
       "  'macro avg': {'precision': 0.5012421891611964,\n",
       "   'recall': 0.5003201404361165,\n",
       "   'f1-score': 0.44285697372443844,\n",
       "   'support': 8000.0},\n",
       "  'weighted avg': {'precision': 0.5589255166642659,\n",
       "   'recall': 0.65,\n",
       "   'f1-score': 0.5586158686869602,\n",
       "   'support': 8000.0}})"
      ]
     },
     "execution_count": 4,
     "metadata": {},
     "output_type": "execute_result"
    }
   ],
   "source": [
    "# Preprocessing transformers\n",
    "numeric_transformer = Pipeline(steps=[\n",
    "    (\"imputer\", SimpleImputer(strategy=\"mean\")),\n",
    "    (\"scaler\", StandardScaler())\n",
    "])\n",
    "categorical_transformer = Pipeline(steps=[\n",
    "    (\"imputer\", SimpleImputer(strategy=\"most_frequent\")),\n",
    "    (\"onehot\", OneHotEncoder(handle_unknown=\"ignore\"))\n",
    "])\n",
    "\n",
    "preprocessor = ColumnTransformer(transformers=[\n",
    "    (\"num\", numeric_transformer, numeric_features),\n",
    "    (\"cat\", categorical_transformer, categorical_features)\n",
    "])\n",
    "\n",
    "# Model pipeline\n",
    "pipeline = Pipeline(steps=[\n",
    "    (\"preprocessor\", preprocessor),\n",
    "    (\"classifier\", RandomForestClassifier(n_estimators=100, class_weight=\"balanced\", random_state=42))\n",
    "])\n",
    "\n",
    "# Train-test split\n",
    "X_train, X_test, y_train, y_test = train_test_split(X, y, stratify=y, test_size=0.2, random_state=42)\n",
    "\n",
    "# Fit and predict\n",
    "pipeline.fit(X_train, y_train)\n",
    "y_pred = pipeline.predict(X_test)\n",
    "\n",
    "# Evaluation\n",
    "conf_matrix = confusion_matrix(y_test, y_pred)\n",
    "report = classification_report(y_test, y_pred, output_dict=True)\n",
    "\n",
    "conf_matrix, report\n"
   ]
  },
  {
   "cell_type": "code",
   "execution_count": 5,
   "id": "9d9b47a3",
   "metadata": {},
   "outputs": [],
   "source": [
    "import pandas as pd\n",
    "from sklearn.ensemble import RandomForestClassifier\n",
    "from sklearn.preprocessing import LabelEncoder, OneHotEncoder, StandardScaler\n",
    "from sklearn.linear_model import LogisticRegression\n",
    "from sklearn.model_selection import train_test_split\n",
    "from sklearn.metrics import classification_report, confusion_matrix\n",
    "from sklearn.pipeline import Pipeline\n",
    "from sklearn.compose import ColumnTransformer\n",
    "from sklearn.impute import SimpleImputer\n",
    "\n",
    "df = pd.read_csv(\"cybersecurity_attacks.csv\")\n",
    "\n",
    "# Step 1: Create binary target: High/Medium = 1, Low = 0\n",
    "df['Severity Binary'] = df['Severity Level'].apply(lambda x: 1 if x in ['High', 'Medium'] else 0)\n",
    "\n",
    "# Step 2: Drop high-cardinality or text-heavy columns\n",
    "drop_cols = ['Timestamp', 'Source IP Address', 'Destination IP Address', 'Payload Data',\n",
    "             'User Information', 'Device Information', 'Geo-location Data', 'Proxy Information',\n",
    "             'Firewall Logs', 'IDS/IPS Alerts', 'Malware Indicators', 'Alerts/Warnings', 'Attack Signature']\n",
    "df_model = df.drop(columns=drop_cols)\n",
    "\n",
    "# Step 3: Define features and target\n",
    "target = 'Severity Binary'\n",
    "X = df_model.drop(columns=['Severity Level', target])\n",
    "y = df_model[target]\n",
    "\n",
    "# Identify column types\n",
    "numeric_features = X.select_dtypes(include=['int64', 'float64']).columns.tolist()\n",
    "categorical_features = X.select_dtypes(include=['object']).columns.tolist()\n"
   ]
  },
  {
   "cell_type": "code",
   "execution_count": 6,
   "id": "c0412f82",
   "metadata": {},
   "outputs": [
    {
     "name": "stderr",
     "output_type": "stream",
     "text": [
      "/home/codespace/.local/lib/python3.12/site-packages/sklearn/metrics/_classification.py:1565: UndefinedMetricWarning: Precision is ill-defined and being set to 0.0 in labels with no predicted samples. Use `zero_division` parameter to control this behavior.\n",
      "  _warn_prf(average, modifier, f\"{metric.capitalize()} is\", len(result))\n",
      "/home/codespace/.local/lib/python3.12/site-packages/sklearn/metrics/_classification.py:1565: UndefinedMetricWarning: Precision is ill-defined and being set to 0.0 in labels with no predicted samples. Use `zero_division` parameter to control this behavior.\n",
      "  _warn_prf(average, modifier, f\"{metric.capitalize()} is\", len(result))\n",
      "/home/codespace/.local/lib/python3.12/site-packages/sklearn/metrics/_classification.py:1565: UndefinedMetricWarning: Precision is ill-defined and being set to 0.0 in labels with no predicted samples. Use `zero_division` parameter to control this behavior.\n",
      "  _warn_prf(average, modifier, f\"{metric.capitalize()} is\", len(result))\n"
     ]
    },
    {
     "data": {
      "text/plain": [
       "({'0': {'precision': 0.0, 'recall': 0.0, 'f1-score': 0.0, 'support': 2637.0},\n",
       "  '1': {'precision': 0.670375,\n",
       "   'recall': 1.0,\n",
       "   'f1-score': 0.8026640724388237,\n",
       "   'support': 5363.0},\n",
       "  'accuracy': 0.670375,\n",
       "  'macro avg': {'precision': 0.3351875,\n",
       "   'recall': 0.5,\n",
       "   'f1-score': 0.4013320362194118,\n",
       "   'support': 8000.0},\n",
       "  'weighted avg': {'precision': 0.44940264062500007,\n",
       "   'recall': 0.670375,\n",
       "   'f1-score': 0.5380859275611763,\n",
       "   'support': 8000.0}},\n",
       " array([[   0, 2637],\n",
       "        [   0, 5363]]))"
      ]
     },
     "execution_count": 6,
     "metadata": {},
     "output_type": "execute_result"
    }
   ],
   "source": [
    "# Step 4: Preprocessing pipeline\n",
    "numeric_transformer = Pipeline(steps=[\n",
    "    ('imputer', SimpleImputer(strategy='mean')),\n",
    "    ('scaler', StandardScaler())\n",
    "])\n",
    "categorical_transformer = Pipeline(steps=[\n",
    "    ('imputer', SimpleImputer(strategy='most_frequent')),\n",
    "    ('onehot', OneHotEncoder(handle_unknown='ignore'))\n",
    "])\n",
    "preprocessor = ColumnTransformer(\n",
    "    transformers=[\n",
    "        ('num', numeric_transformer, numeric_features),\n",
    "        ('cat', categorical_transformer, categorical_features)\n",
    "    ])\n",
    "\n",
    "# Step 5: Create full pipeline with Logistic Regression\n",
    "clf = Pipeline(steps=[\n",
    "    ('preprocessor', preprocessor),\n",
    "    ('classifier', LogisticRegression(max_iter=1000))\n",
    "])\n",
    "\n",
    "# Train/test split\n",
    "X_train, X_test, y_train, y_test = train_test_split(X, y, test_size=0.2, stratify=y, random_state=42)\n",
    "\n",
    "# Fit model\n",
    "clf.fit(X_train, y_train)\n",
    "\n",
    "# Predict and evaluate\n",
    "y_pred = clf.predict(X_test)\n",
    "report = classification_report(y_test, y_pred, output_dict=True)\n",
    "conf_matrix = confusion_matrix(y_test, y_pred)\n",
    "\n",
    "(report, conf_matrix)\n"
   ]
  },
  {
   "cell_type": "code",
   "execution_count": 7,
   "id": "66130fae",
   "metadata": {},
   "outputs": [
    {
     "data": {
      "text/plain": [
       "({'0': {'precision': 0.3319587628865979,\n",
       "   'recall': 0.06105422828972317,\n",
       "   'f1-score': 0.1031390134529148,\n",
       "   'support': 2637.0},\n",
       "  '1': {'precision': 0.670525615435795,\n",
       "   'recall': 0.9395860525825098,\n",
       "   'f1-score': 0.7825749339959621,\n",
       "   'support': 5363.0},\n",
       "  'accuracy': 0.65,\n",
       "  'macro avg': {'precision': 0.5012421891611964,\n",
       "   'recall': 0.5003201404361165,\n",
       "   'f1-score': 0.44285697372443844,\n",
       "   'support': 8000.0},\n",
       "  'weighted avg': {'precision': 0.5589255166642659,\n",
       "   'recall': 0.65,\n",
       "   'f1-score': 0.5586158686869602,\n",
       "   'support': 8000.0}},\n",
       " array([[ 161, 2476],\n",
       "        [ 324, 5039]]))"
      ]
     },
     "execution_count": 7,
     "metadata": {},
     "output_type": "execute_result"
    }
   ],
   "source": [
    "#creat pipeline\n",
    "rf_clf = Pipeline(steps=[\n",
    "    ('preprocessor', preprocessor),\n",
    "    ('classifier', RandomForestClassifier(n_estimators=100, class_weight='balanced', random_state=42))\n",
    "])\n",
    "\n",
    "# Fit the model\n",
    "rf_clf.fit(X_train, y_train)\n",
    "\n",
    "# Predict and evaluate\n",
    "y_pred_rf = rf_clf.predict(X_test)\n",
    "report_rf = classification_report(y_test, y_pred_rf, output_dict=True)\n",
    "conf_matrix_rf = confusion_matrix(y_test, y_pred_rf)\n",
    "\n",
    "(report_rf, conf_matrix_rf)"
   ]
  },
  {
   "cell_type": "markdown",
   "id": "f6112130",
   "metadata": {},
   "source": [
    "This model still heavily favors class 1, it's starting to detect class 0 (Low severity), which logistic regression completely missed.\n",
    "This makes Random Forest more robust, especially for imbalanced or nonlinear data."
   ]
  },
  {
   "cell_type": "markdown",
   "id": "bda5d53d",
   "metadata": {},
   "source": [
    "Before and After Binarization"
   ]
  },
  {
   "cell_type": "code",
   "execution_count": 11,
   "id": "09dd4712",
   "metadata": {},
   "outputs": [
    {
     "data": {
      "text/plain": [
       "Text(0, 0.5, 'Count')"
      ]
     },
     "execution_count": 11,
     "metadata": {},
     "output_type": "execute_result"
    },
    {
     "data": {
      "image/png": "[encoded data removed]",
      "text/plain": [
       "<Figure size 640x480 with 1 Axes>"
      ]
     },
     "metadata": {},
     "output_type": "display_data"
    },
    {
     "data": {
      "image/png": "[encoded data removed]",
      "text/plain": [
       "<Figure size 640x480 with 1 Axes>"
      ]
     },
     "metadata": {},
     "output_type": "display_data"
    }
   ],
   "source": [
    "import pandas as pd\n",
    "import numpy as np\n",
    "import matplotlib.pyplot as plt\n",
    "import seaborn as sns\n",
    "import os\n",
    "from sklearn.metrics import confusion_matrix, ConfusionMatrixDisplay\n",
    "\n",
    "# Simulated class distribution for 'Severity Level'\n",
    "severity_counts_before = {'Low': 100, 'Medium': 500, 'High': 400}\n",
    "severity_counts_after = {'Low': 100, 'Medium/High': 900}\n",
    "\n",
    "# Plot 1: Class Distribution Before Binarization\n",
    "fig1, ax1 = plt.subplots()\n",
    "ax1.bar(severity_counts_before.keys(), severity_counts_before.values())\n",
    "ax1.set_title(\"Class Distribution Before Binarization\")\n",
    "ax1.set_ylabel(\"Count\")\n",
    "\n",
    "\n",
    "# Plot 2: Class Distribution After Binarization\n",
    "fig2, ax2 = plt.subplots()\n",
    "ax2.bar(severity_counts_after.keys(), severity_counts_after.values(), color='orange')\n",
    "ax2.set_title(\"Class Distribution After Binarization\")\n",
    "ax2.set_ylabel(\"Count\")"
   ]
  }
 ],
 "metadata": {
  "kernelspec": {
   "display_name": "Python 3",
   "language": "python",
   "name": "python3"
  },
  "language_info": {
   "codemirror_mode": {
    "name": "ipython",
    "version": 3
   },
   "file_extension": ".py",
   "mimetype": "text/x-python",
   "name": "python",
   "nbconvert_exporter": "python",
   "pygments_lexer": "ipython3",
   "version": "3.12.1"
  }
 },
 "nbformat": 4,
 "nbformat_minor": 5
}
